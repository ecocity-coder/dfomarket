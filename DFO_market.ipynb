{
  "nbformat": 4,
  "nbformat_minor": 0,
  "metadata": {
    "colab": {
      "provenance": []
    },
    "kernelspec": {
      "name": "python3",
      "display_name": "Python 3"
    },
    "language_info": {
      "name": "python"
    }
  },
  "cells": [
    {
      "cell_type": "code",
      "execution_count": null,
      "metadata": {
        "id": "QJgn85znEVb_"
      },
      "outputs": [],
      "source": [
        "import pandas as pd"
      ]
    },
    {
      "cell_type": "code",
      "source": [
        "path_to_files = ['/content/апрель общая.xlsx', '/content/июнь общее.xlsx', '/content/май общея.xlsx', '/content/март общая.xlsx', '/content/февраль общая.xlsx', '/content/январь общая.xlsx']"
      ],
      "metadata": {
        "id": "9KrEr3WZEqu0"
      },
      "execution_count": null,
      "outputs": []
    },
    {
      "cell_type": "code",
      "source": [
        "df1 = pd.read_excel(path_to_files[0])\n",
        "df2 = pd.read_excel(path_to_files[1])\n",
        "df3 = pd.read_excel(path_to_files[2])\n",
        "df4 = pd.read_excel(path_to_files[3])\n",
        "df5 = pd.read_excel(path_to_files[4])\n",
        "df6 = pd.read_excel(path_to_files[5])"
      ],
      "metadata": {
        "id": "LXLAGD4hFbxW"
      },
      "execution_count": null,
      "outputs": []
    },
    {
      "cell_type": "code",
      "source": [
        "merged_df = pd.concat([df1, df2, df3, df4, df5, df6])"
      ],
      "metadata": {
        "id": "yIAPw2rZFns0"
      },
      "execution_count": null,
      "outputs": []
    },
    {
      "cell_type": "code",
      "source": [
        "merged_df.to_excel('DFO_gen.xlsx')"
      ],
      "metadata": {
        "id": "Pt-cqaeOIXgI"
      },
      "execution_count": null,
      "outputs": []
    },
    {
      "cell_type": "code",
      "source": [
        "path_to_files = ['/content/апрель регионы.xlsx', '/content/июнь регионы.xlsx', '/content/май регионы.xlsx', '/content/март регионы.xlsx', '/content/февраль регионы.xlsx', '/content/январь регионы.xlsx']"
      ],
      "metadata": {
        "id": "2YFnpmxcJ3R5"
      },
      "execution_count": null,
      "outputs": []
    },
    {
      "cell_type": "code",
      "source": [
        "df7 = pd.read_excel(path_to_files[0])\n",
        "df8 = pd.read_excel(path_to_files[1])\n",
        "df9 = pd.read_excel(path_to_files[2])\n",
        "df10 = pd.read_excel(path_to_files[3])\n",
        "df11 = pd.read_excel(path_to_files[4])\n",
        "df12 = pd.read_excel(path_to_files[5])"
      ],
      "metadata": {
        "id": "P-UrYrEnKRhS"
      },
      "execution_count": null,
      "outputs": []
    },
    {
      "cell_type": "code",
      "source": [
        "merged_df = pd.concat([df7, df8, df9, df10, df11, df12])"
      ],
      "metadata": {
        "id": "fU9Gbnu2KwJ-"
      },
      "execution_count": null,
      "outputs": []
    },
    {
      "cell_type": "code",
      "source": [
        "merged_df.to_excel('DFO_reg.xlsx')"
      ],
      "metadata": {
        "id": "Y4RLAiNDK8SH"
      },
      "execution_count": null,
      "outputs": []
    },
    {
      "cell_type": "code",
      "source": [
        "path_to_files = ['/content/апрель девелоперы.xlsx', '/content/июнь девелоперы.xlsx', '/content/май девелоперы.xlsx', '/content/март девелоперы.xlsx', '/content/февраль девелоперы.xlsx', '/content/январь девелоперы.xlsx']"
      ],
      "metadata": {
        "id": "rdc2tEBmLICd"
      },
      "execution_count": null,
      "outputs": []
    },
    {
      "cell_type": "code",
      "source": [
        "df13 = pd.read_excel(path_to_files[0])\n",
        "df14 = pd.read_excel(path_to_files[1])\n",
        "df15 = pd.read_excel(path_to_files[2])\n",
        "df16 = pd.read_excel(path_to_files[3])\n",
        "df17 = pd.read_excel(path_to_files[4])\n",
        "df18 = pd.read_excel(path_to_files[5])"
      ],
      "metadata": {
        "id": "yJ1AnOzMLisx"
      },
      "execution_count": null,
      "outputs": []
    },
    {
      "cell_type": "code",
      "source": [
        "merged_df = pd.concat([df13, df14, df15, df16, df17, df18])"
      ],
      "metadata": {
        "id": "fK4jpD5bLvrj"
      },
      "execution_count": null,
      "outputs": []
    },
    {
      "cell_type": "code",
      "source": [
        "merged_df.to_excel('DFO_dev.xlsx')\n"
      ],
      "metadata": {
        "id": "JcD3_YYML3Yb"
      },
      "execution_count": null,
      "outputs": []
    },
    {
      "cell_type": "code",
      "source": [
        "df0 = pd.read_excel('DFO_gen1.xlsx')"
      ],
      "metadata": {
        "id": "YuSRTJDPNlQj"
      },
      "execution_count": null,
      "outputs": []
    },
    {
      "cell_type": "code",
      "source": [
        "living = df0['Жилая']\n",
        "rooms = df0['Квартиры,']"
      ],
      "metadata": {
        "id": "4vKQsvmyNvxl"
      },
      "execution_count": null,
      "outputs": []
    },
    {
      "cell_type": "code",
      "source": [
        "new_df = pd.DataFrame({'Средняя площадь квартиры': living / rooms})"
      ],
      "metadata": {
        "id": "lg94NPWuN4HX"
      },
      "execution_count": null,
      "outputs": []
    },
    {
      "cell_type": "code",
      "source": [
        "new_df['месяц'] = ['январь', 'февраль', 'март', 'апрель', 'май', 'июнь']\n"
      ],
      "metadata": {
        "id": "bYAmDOV1SBid"
      },
      "execution_count": null,
      "outputs": []
    },
    {
      "cell_type": "code",
      "source": [
        "print(new_df)"
      ],
      "metadata": {
        "colab": {
          "base_uri": "https://localhost:8080/"
        },
        "id": "OTa0EkfmX90X",
        "outputId": "6c38cdc3-3164-416f-8e9b-f711e2b8cd9f"
      },
      "execution_count": null,
      "outputs": [
        {
          "output_type": "stream",
          "name": "stdout",
          "text": [
            "   Средняя площадь квартиры    месяц\n",
            "0                 50.913580   январь\n",
            "1                 51.379310  февраль\n",
            "2                 50.506024     март\n",
            "3                 51.474359   апрель\n",
            "4                 51.200000      май\n",
            "5                 51.561644     июнь\n"
          ]
        }
      ]
    },
    {
      "cell_type": "code",
      "source": [
        "new_df[\"Средняя площадь квартиры\"] = new_df[\"Средняя площадь квартиры\"].round(2)"
      ],
      "metadata": {
        "id": "WDd2wJNqYwVD"
      },
      "execution_count": null,
      "outputs": []
    },
    {
      "cell_type": "code",
      "source": [
        "new_df.to_excel('Средняя_площадь_квартиры2.xlsx', index=False)"
      ],
      "metadata": {
        "id": "0U5pGipyOBy3"
      },
      "execution_count": null,
      "outputs": []
    },
    {
      "cell_type": "code",
      "source": [
        "import pandas as pd"
      ],
      "metadata": {
        "id": "c9j4R3jepf6B"
      },
      "execution_count": null,
      "outputs": []
    },
    {
      "cell_type": "code",
      "source": [
        "path_to_files = ['/content/апрель девелоперы.xlsx', '/content/июнь девелоперы.xlsx', '/content/май девелоперы.xlsx', '/content/март девелоперы.xlsx', '/content/февраль девелоперы.xlsx', '/content/январь девелоперы.xlsx']"
      ],
      "metadata": {
        "id": "APRW-BfwpCVX"
      },
      "execution_count": null,
      "outputs": []
    },
    {
      "cell_type": "code",
      "source": [
        "df1 = pd.read_excel(path_to_files[0])\n",
        "df2 = pd.read_excel(path_to_files[1])\n",
        "df3 = pd.read_excel(path_to_files[2])\n",
        "df4 = pd.read_excel(path_to_files[3])\n",
        "df5 = pd.read_excel(path_to_files[4])\n",
        "df6 = pd.read_excel(path_to_files[5])"
      ],
      "metadata": {
        "id": "AL9IGbXapebw"
      },
      "execution_count": null,
      "outputs": []
    },
    {
      "cell_type": "code",
      "source": [
        "data = pd.concat([df1,df2,df3,df4,df5,df6], ignore_index=True)"
      ],
      "metadata": {
        "id": "-i0oKOiMqtKn"
      },
      "execution_count": null,
      "outputs": []
    },
    {
      "cell_type": "code",
      "source": [],
      "metadata": {
        "id": "RVe5sdMCrUJ1"
      },
      "execution_count": null,
      "outputs": []
    },
    {
      "cell_type": "code",
      "source": [
        "grouped_data = data.groupby('Девелопер')['Всего'].sum().reset_index()"
      ],
      "metadata": {
        "id": "rL8N-UfjrDlI"
      },
      "execution_count": null,
      "outputs": []
    },
    {
      "cell_type": "code",
      "source": [
        "grouped_data.to_csv('доля_девелоперов.csv', index=False)"
      ],
      "metadata": {
        "id": "Vf57exY6raPo"
      },
      "execution_count": null,
      "outputs": []
    },
    {
      "cell_type": "code",
      "source": [
        "grouped_data.to_excel('доля_девелоперов.xlsx', index=False)"
      ],
      "metadata": {
        "id": "K1B5Y8izs08b"
      },
      "execution_count": null,
      "outputs": []
    }
  ]
}